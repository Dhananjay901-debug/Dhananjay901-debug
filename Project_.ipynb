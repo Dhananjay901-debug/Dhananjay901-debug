{
  "cells": [
    {
      "cell_type": "markdown",
      "metadata": {
        "id": "view-in-github",
        "colab_type": "text"
      },
      "source": [
        "<a href=\"https://colab.research.google.com/github/Dhananjay901-debug/Dhananjay901-debug/blob/main/Project_.ipynb\" target=\"_parent\"><img src=\"https://colab.research.google.com/assets/colab-badge.svg\" alt=\"Open In Colab\"/></a>"
      ]
    },
    {
      "cell_type": "markdown",
      "source": [
        "# **Old idea**"
      ],
      "metadata": {
        "id": "QSGkWGahmghR"
      }
    },
    {
      "cell_type": "code",
      "execution_count": null,
      "metadata": {
        "colab": {
          "base_uri": "https://localhost:8080/",
          "height": 1000
        },
        "id": "__y2O34WR8C1",
        "outputId": "a636aa5a-b831-4880-bf39-fc956cebb747"
      },
      "outputs": [
        {
          "output_type": "stream",
          "name": "stdout",
          "text": [
            "                                                      ..............................\n",
            "                                                      !       A Python Guide       !\n",
            "                                                      !                            !\n",
            "                                                      !  1.Basic                   !\n",
            "                                                      !  2.Intermediate            !\n",
            "                                                      !  3.Advanced                !\n",
            "                                                      !  4.Exit\t                   !\n",
            "                                                      !............................!\n",
            "Enter the course you want to procede with: 1\n",
            "                                                   ...................................\n",
            "                                                   !          Python Basics          !\n",
            "                                                   !  1.Installing Python\t     !\n",
            "                                                   !  2.OOPs\t\t\t     !\n",
            "                                                   !  3.Modes in python\t\t     !\n",
            "                                                   !  4.Basic programs\t\t     !\n",
            "                                                   !  5.Bugs and Debugging\t     !\n",
            "                                                   !  6.Operators and precedence     !\n",
            "                                                   !  7.Variables and input\t     !\n",
            "                                                   !  8.Return\t\t\t     !\n",
            "                                                   !.................................!\n",
            "Enter the topic you want to study:  4\n",
            "The most basic python command you can make is to display something, This is done using print() funtion.\n",
            "        Syntax-\n",
            "        print('sentence')\n",
            "        if you want to write a sentence it shoud be written in '' or \"\", You can write numbers in '' or without it.                                                      \n",
            "        NOTE-print is always written in small characters if you write any letter in caps then it will give error\n",
            "        example-\n",
            "        print('Hello World')\n",
            "        output-\n",
            "        Hello World\n",
            "        \n",
            "try displaying Chemistryprint('chemistry')\n",
            "Error\n",
            "try displaying Chemistry\n",
            "Enter the topic you want to study:  \n",
            "Chemistry\n",
            "                                                   ...................................\n",
            "                                                   !          Python Basics          !\n",
            "                                                   !  1.Installing Python\t     !\n",
            "                                                   !  2.OOPs\t\t\t     !\n",
            "                                                   !  3.Modes in python\t\t     !\n",
            "                                                   !  4.Basic programs\t\t     !\n",
            "                                                   !  5.Bugs and Debugging\t     !\n",
            "                                                   !  6.Operators and precedence     !\n",
            "                                                   !  7.Variables and input\t     !\n",
            "                                                   !  8.Return\t\t\t     !\n",
            "                                                   !.................................!\n"
          ]
        },
        {
          "output_type": "error",
          "ename": "ValueError",
          "evalue": "ignored",
          "traceback": [
            "\u001b[0;31m---------------------------------------------------------------------------\u001b[0m",
            "\u001b[0;31mValueError\u001b[0m                                Traceback (most recent call last)",
            "\u001b[0;32m<ipython-input-3-d2df99c35e2f>\u001b[0m in \u001b[0;36m<module>\u001b[0;34m\u001b[0m\n\u001b[1;32m     18\u001b[0m         \u001b[0mprint\u001b[0m\u001b[0;34m(\u001b[0m\u001b[0;34m\"{:>52}{:>3}{:>0}{:>0}{:>6}\"\u001b[0m\u001b[0;34m.\u001b[0m\u001b[0mformat\u001b[0m\u001b[0;34m(\u001b[0m\u001b[0;34m\"!\"\u001b[0m\u001b[0;34m,\u001b[0m\u001b[0mstr\u001b[0m\u001b[0;34m(\u001b[0m\u001b[0mi\u001b[0m\u001b[0;34m+\u001b[0m\u001b[0;36m1\u001b[0m\u001b[0;34m)\u001b[0m\u001b[0;34m,\u001b[0m\u001b[0;34m'.'\u001b[0m\u001b[0;34m,\u001b[0m\u001b[0mbasic\u001b[0m\u001b[0;34m[\u001b[0m\u001b[0mi\u001b[0m\u001b[0;34m]\u001b[0m\u001b[0;34m,\u001b[0m\u001b[0;34m'!'\u001b[0m\u001b[0;34m)\u001b[0m\u001b[0;34m)\u001b[0m\u001b[0;34m\u001b[0m\u001b[0;34m\u001b[0m\u001b[0m\n\u001b[1;32m     19\u001b[0m       \u001b[0mprint\u001b[0m\u001b[0;34m(\u001b[0m\u001b[0;34m'{:>52}{:>0}{:>0}'\u001b[0m\u001b[0;34m.\u001b[0m\u001b[0mformat\u001b[0m\u001b[0;34m(\u001b[0m\u001b[0;34m'!'\u001b[0m\u001b[0;34m,\u001b[0m\u001b[0;34m'.'\u001b[0m\u001b[0;34m*\u001b[0m\u001b[0;36m33\u001b[0m\u001b[0;34m,\u001b[0m\u001b[0;34m'!'\u001b[0m\u001b[0;34m)\u001b[0m\u001b[0;34m)\u001b[0m\u001b[0;34m\u001b[0m\u001b[0;34m\u001b[0m\u001b[0m\n\u001b[0;32m---> 20\u001b[0;31m       \u001b[0mch2\u001b[0m\u001b[0;34m=\u001b[0m\u001b[0mint\u001b[0m\u001b[0;34m(\u001b[0m\u001b[0minput\u001b[0m\u001b[0;34m(\u001b[0m\u001b[0;34m'Enter the topic you want to study:  '\u001b[0m\u001b[0;34m)\u001b[0m\u001b[0;34m)\u001b[0m\u001b[0;34m\u001b[0m\u001b[0;34m\u001b[0m\u001b[0m\n\u001b[0m\u001b[1;32m     21\u001b[0m       \u001b[0;32mif\u001b[0m \u001b[0mch2\u001b[0m\u001b[0;34m==\u001b[0m\u001b[0;36m1\u001b[0m\u001b[0;34m:\u001b[0m\u001b[0;34m\u001b[0m\u001b[0;34m\u001b[0m\u001b[0m\n\u001b[1;32m     22\u001b[0m         print('''1.Installing Python \n",
            "\u001b[0;31mValueError\u001b[0m: invalid literal for int() with base 10: ''"
          ]
        }
      ],
      "source": [
        "course=['Basic       ','Intermediate','Advanced    ','Exit\\t       ']\n",
        "basic=['Installing Python\\t','OOPs\\t\\t\\t','Modes in python\\t\\t','Basic programs\\t\\t','Bugs and Debugging\\t','Operators and precedence','Variables and input\\t','Return\\t\\t\\t']\n",
        "intermediate=['Conditional statements\\t','Loops\\t\\t\\t','strings\\t\\t\\t','List and Tuples\\t\\t','Dictionaries\\t\\t','Return\\t\\t\\t']\n",
        "advanced=['Modules\\t\\t\\t','Funtions\\t\\t','Data handaling\\t\\t','SQL\\t\\t\\t','Numpy\\t\\t\\t','Mathplot.lib\\t\\t','Return\\t\\t\\t']\n",
        "while True:\n",
        "  print('{:>84}'.format('.'*30))\n",
        "  print('{:>55}{:>21}{:>8}'.format('!','A Python Guide','!'))\n",
        "  print('{:>55}{:>29}'.format('!','!'))\n",
        "  for i in range(len(course)):\n",
        "    print(\"{:>55}{:>3}{:>0}{:>0}{:>13}\".format(\"!\",str(i+1),'.',course[i],'!'))\n",
        "  print('{:>55}{:>0}{:>0}'.format('!','.'*28,'!'))\n",
        "  ch1=int(input('Enter the course you want to procede with: '))\n",
        "  if ch1==1:\n",
        "    while True:\n",
        "      print('{:>86}'.format('.'*35))\n",
        "      print('{:>52}{:>23}{:>11}'.format('!','Python Basics','!'))\n",
        "      for i in range(len(basic)):\n",
        "        print(\"{:>52}{:>3}{:>0}{:>0}{:>6}\".format(\"!\",str(i+1),'.',basic[i],'!'))\n",
        "      print('{:>52}{:>0}{:>0}'.format('!','.'*33,'!'))\n",
        "      ch2=int(input('Enter the topic you want to study:  '))\n",
        "      if ch2==1:\n",
        "        print('''1.Installing Python \n",
        "      Python is a open source software which can be downloaded from the official site of python 'https://www.python.org/downloads/'\n",
        "      it is compatible with both 32 bit machine and 64 bit machine. Downloading python provides you with IDLE Module and Module Docs Their is another way \n",
        "      to use python without installing from the official software this is by using th google colab a feature provided to access python on the cloud''')\n",
        "      elif ch2==2:\n",
        "        print ('''\n",
        "        In Python, object-oriented Programming (OOPs) is a programming paradigm that uses objects and classes in programming. It aims \n",
        "        to implement real-world entities like inheritance, polymorphisms, encapsulation, etc. in the programming. The main concept of \n",
        "        OOPs is to bind the data and the functions that work on that together as a single unit so that no other part of the code can \n",
        "        access this data.''')\n",
        "        pass\n",
        "      elif ch2==3:\n",
        "        print('''Modes in Python\n",
        "      A.Shell mode\n",
        "    \\tTo access shell mode you just start python by schorcut or search IDLE in search bar\n",
        "    \\tShell mode is used to run single line codes the code is written in the shell and the output comes out when you press enter\n",
        "      B.Interactive mode\n",
        "    \\tTo access interactive mode we need to got to file in shell mode then click new file\n",
        "    \\tin interactive mode we can write multi line code.When using interactive mode the code needs to be saved befoer running\n",
        "    \\tThe code is written in interactive mode but the output appears in shell''')\n",
        "      elif ch2==4:\n",
        "        print ('''The most basic python command you can make is to display something, This is done using print() funtion.\n",
        "        Syntax-\n",
        "        print('sentence')\n",
        "        if you want to write a sentence it shoud be written in '' or \"\", You can write numbers in '' or without it.                                                      \n",
        "        NOTE-print is always written in small characters if you write any letter in caps then it will give error\n",
        "        example-\n",
        "        print('Hello World')\n",
        "        output-\n",
        "        Hello World\n",
        "        ''')\n",
        "        Print=input('try displaying Chemistry')\n",
        "        while Print not in \"\"\"print('Chemistry')print(\"Chemistry\")print('''Chemistry''')\"\"\":\n",
        "          print('Error')\n",
        "          Print=input('try displaying Chemistry')       \n",
        "        print('Chemistry')\n",
        "      elif ch2==5:\n",
        "        pass\n",
        "      elif ch2==6:\n",
        "        pass\n",
        "      elif ch2==7:\n",
        "        pass\n",
        "      elif ch2==8:\n",
        "        break\n",
        "  elif ch1==2:\n",
        "    while True:\n",
        "      print('{:>86}'.format('.'*35))\n",
        "      print('{:>52}{:>27}{:>7}'.format('!','Python Intermediate','!'))\n",
        "      for i in range(len(intermediate)):\n",
        "        print(\"{:>52}{:>3}{:>0}{:>0}{:>6}\".format(\"!\",str(i+1),'.',intermediate[i],'!'))\n",
        "      print('{:>52}{:>0}{:>0}'.format('!','.'*33,'!'))\n",
        "      ch2=int(input('Enter the topic you want to study'))\n",
        "      if ch2==1:\n",
        "        pass\n",
        "      elif ch2==2:\n",
        "        pass\n",
        "      elif ch2==3:\n",
        "        pass\n",
        "      elif ch2==4:\n",
        "        pass\n",
        "      elif ch2==5:\n",
        "        pass\n",
        "      elif ch2==6:\n",
        "        break\n",
        "  elif ch1==3:\n",
        "    while True:\n",
        "      print('{:>86}'.format('.'*35))\n",
        "      print('{:>52}{:>25}{:>9}'.format('!','Python Advanced','!'))\n",
        "      for i in range(len(advanced)):\n",
        "        print(\"{:>52}{:>3}{:>0}{:>0}{:>6}\".format(\"!\",str(i+1),'.',advanced[i],'!'))\n",
        "      print('{:>52}{:>0}{:>0}'.format('!','.'*33,'!'))\n",
        "      ch2=int(input('Enter the topic you want to study'))\n",
        "      if ch2==1:\n",
        "        pass\n",
        "      elif ch2==2:\n",
        "        pass\n",
        "      elif ch2==3:\n",
        "        pass\n",
        "      elif ch2==4:\n",
        "        pass\n",
        "      elif ch2==5:\n",
        "        pass\n",
        "      elif ch2==6:\n",
        "        pass\n",
        "      elif ch2==7:\n",
        "        break\n",
        "  elif ch1==4:\n",
        "    break\n",
        "  else:\n",
        "    print('Invalid choice')\n",
        "    continue"
      ]
    },
    {
      "cell_type": "markdown",
      "source": [
        "# new idea"
      ],
      "metadata": {
        "id": "mHHZ0mO9mpgI"
      }
    },
    {
      "cell_type": "code",
      "source": [
        "#World records\n",
        "records={\"Most goals\":\"Critiano Ronald\",\"Tallest woman\":\"Rumeysa Gelgi\",\"Tallest man\":\"Sultan Kösen\"}\n",
        "while True:\n",
        "  ch=input(\"type any record you want to check for\")\n",
        "  if ch"
      ],
      "metadata": {
        "id": "uGDAb-uYmeJT"
      },
      "execution_count": null,
      "outputs": []
    }
  ],
  "metadata": {
    "colab": {
      "provenance": [],
      "include_colab_link": true
    },
    "kernelspec": {
      "display_name": "Python 3",
      "name": "python3"
    },
    "language_info": {
      "name": "python"
    }
  },
  "nbformat": 4,
  "nbformat_minor": 0
}